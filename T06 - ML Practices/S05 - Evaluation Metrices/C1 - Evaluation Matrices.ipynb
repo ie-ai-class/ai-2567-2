{
 "cells": [
  {
   "cell_type": "markdown",
   "metadata": {},
   "source": [
    "# Evaluation matrices (binary classification)\n"
   ]
  },
  {
   "cell_type": "markdown",
   "metadata": {},
   "source": [
    "## Setting up\n",
    "\n",
    "- Breat cancer data\n",
    "- 2 classes\n",
    "- 30 features\n",
    "- SVC\n",
    "\n",
    "Classes:\n",
    "\n",
    "- `0` = Malignant - Tumor grows rapidly, invade and destroy nearby normal tissues, and spread throughout the body.\n",
    "- `1` = Benign - Tumor grows slowly and do not spread.\n"
   ]
  },
  {
   "cell_type": "code",
   "execution_count": null,
   "metadata": {},
   "outputs": [],
   "source": [
    "import pandas as pd\n",
    "import numpy as np\n",
    "import matplotlib.pyplot as plt\n",
    "from sklearn.model_selection import train_test_split\n",
    "from sklearn.preprocessing import StandardScaler\n",
    "from sklearn.svm import SVC\n",
    "import seaborn as sns\n",
    "\n",
    "# Breast cancer data\n",
    "from sklearn.datasets import load_breast_cancer\n",
    "\n",
    "# Load data\n",
    "dataObj = load_breast_cancer()\n",
    "X = dataObj.data\n",
    "y = dataObj.target\n",
    "print(np.unique(y))\n",
    "print(X.shape)\n",
    "\n",
    "# Visualize with dataframe\n",
    "df = pd.DataFrame(data=X, columns=dataObj.feature_names)\n",
    "df.insert(loc=0, column=\"class\", value=y)\n",
    "df[\"class\"] = df[\"class\"].map({0: dataObj.target_names[0], 1: dataObj.target_names[1]})\n",
    "display(df)"
   ]
  },
  {
   "cell_type": "code",
   "execution_count": null,
   "metadata": {},
   "outputs": [],
   "source": [
    "# Class distribution\n",
    "df[\"class\"].value_counts()"
   ]
  },
  {
   "cell_type": "code",
   "execution_count": null,
   "metadata": {},
   "outputs": [],
   "source": [
    "# Splitting data\n",
    "X_train, X_test, y_train, y_test = train_test_split(\n",
    "    X, y, test_size=0.20, stratify=y, random_state=1\n",
    ")\n",
    "\n",
    "# Standardize features\n",
    "sc = StandardScaler()\n",
    "sc.fit(X_train)\n",
    "X_train_std = sc.transform(X_train)\n",
    "X_test_std = sc.transform(X_test)\n",
    "\n",
    "# Classfier\n",
    "svc = SVC(random_state=1)"
   ]
  },
  {
   "cell_type": "markdown",
   "metadata": {},
   "source": [
    "## Confusion matrix\n"
   ]
  },
  {
   "cell_type": "code",
   "execution_count": null,
   "metadata": {},
   "outputs": [],
   "source": [
    "from sklearn.metrics import confusion_matrix\n",
    "\n",
    "# Training\n",
    "svc.fit(X_train_std, y_train)\n",
    "\n",
    "# Prediction from test data\n",
    "y_pred = svc.predict(X_test_std)"
   ]
  },
  {
   "cell_type": "code",
   "execution_count": null,
   "metadata": {},
   "outputs": [],
   "source": [
    "# Confusion matrix (works but very ugly)\n",
    "confmat = confusion_matrix(y_true=y_test, y_pred=y_pred, labels=[0, 1])\n",
    "print(confmat)"
   ]
  },
  {
   "cell_type": "code",
   "execution_count": null,
   "metadata": {},
   "outputs": [],
   "source": [
    "# Manual plot\n",
    "sns.heatmap(confmat, annot=True, cmap=\"Blues\")"
   ]
  },
  {
   "cell_type": "code",
   "execution_count": null,
   "metadata": {},
   "outputs": [],
   "source": [
    "# Confusion matrix (more beautiful)\n",
    "from sklearn.metrics import ConfusionMatrixDisplay\n",
    "\n",
    "ConfusionMatrixDisplay.from_estimator(\n",
    "    estimator=svc,\n",
    "    X=X_test_std,\n",
    "    y=y_test,\n",
    "    labels=[0, 1],\n",
    "    display_labels=[\"malignant\", \"benign\"],\n",
    ")\n",
    "plt.show()"
   ]
  },
  {
   "cell_type": "markdown",
   "metadata": {},
   "source": [
    "### Note\n",
    "\n",
    "- The class 0 samples that are correctly predicted as class 0 are now in the upper left corner of the matrix.\n",
    "- In order to change the ordering, we can use the \"labels\" argument.\n"
   ]
  },
  {
   "cell_type": "code",
   "execution_count": null,
   "metadata": {},
   "outputs": [],
   "source": [
    "confmat = confusion_matrix(y_true=y_test, y_pred=y_pred, labels=[1, 0])\n",
    "print(confmat)"
   ]
  },
  {
   "cell_type": "code",
   "execution_count": null,
   "metadata": {},
   "outputs": [],
   "source": [
    "ConfusionMatrixDisplay.from_estimator(\n",
    "    estimator=svc,\n",
    "    X=X_test_std,\n",
    "    y=y_test,\n",
    "    labels=[1, 0],\n",
    "    display_labels=[\"benign\", \"malignant\"],\n",
    ")\n",
    "plt.show()"
   ]
  },
  {
   "cell_type": "markdown",
   "metadata": {},
   "source": [
    "## Accuracy, Precision, Recall, and F1\n",
    "\n",
    "- Be careful with the definition of \"positive\" label. In this case, we want `0` to be positive (เป็นโรค).\n",
    "- Therefore, we need to set `pos_label=0` when calculating precision, recall and F1\n"
   ]
  },
  {
   "cell_type": "code",
   "execution_count": null,
   "metadata": {},
   "outputs": [],
   "source": [
    "from sklearn.metrics import accuracy_score, precision_score, recall_score, f1_score\n",
    "\n",
    "# Accuracy\n",
    "ACC = accuracy_score(y_true=y_test, y_pred=y_pred)\n",
    "\n",
    "datas = []\n",
    "\n",
    "# Label 0\n",
    "PRE = precision_score(y_true=y_test, y_pred=y_pred, pos_label=0)\n",
    "REC = recall_score(y_true=y_test, y_pred=y_pred, pos_label=0)\n",
    "F1 = f1_score(y_true=y_test, y_pred=y_pred, pos_label=0)\n",
    "datas.append([PRE, REC, F1])\n",
    "\n",
    "# Label 1 (Default)\n",
    "PRE = precision_score(y_true=y_test, y_pred=y_pred)\n",
    "REC = recall_score(y_true=y_test, y_pred=y_pred)\n",
    "F1 = f1_score(y_true=y_test, y_pred=y_pred)\n",
    "datas.append([PRE, REC, F1])"
   ]
  },
  {
   "cell_type": "code",
   "execution_count": null,
   "metadata": {},
   "outputs": [],
   "source": [
    "df = pd.DataFrame.from_records(\n",
    "    datas, columns=[\"Precision\", \"Recall\", \"F1\"], index=[\"L0\", \"L1\"]\n",
    ")\n",
    "df.index.name = \"Label\"\n",
    "display(df)\n",
    "\n",
    "print(f\"Accuracy: {ACC:6.5f}\")"
   ]
  },
  {
   "cell_type": "markdown",
   "metadata": {},
   "source": [
    "## Classification report\n"
   ]
  },
  {
   "cell_type": "code",
   "execution_count": null,
   "metadata": {},
   "outputs": [],
   "source": [
    "from sklearn.metrics import classification_report\n",
    "\n",
    "print(classification_report(y_test, y_pred, digits=5))"
   ]
  },
  {
   "cell_type": "code",
   "execution_count": null,
   "metadata": {},
   "outputs": [],
   "source": [
    "PRE0 = df.loc[\"L0\", \"Precision\"]\n",
    "PRE1 = df.loc[\"L1\", \"Precision\"]\n",
    "\n",
    "mac_ave = (PRE0 + PRE1) / 2\n",
    "print(f\"Macro average precision: {mac_ave:6.5f}\")"
   ]
  },
  {
   "cell_type": "code",
   "execution_count": null,
   "metadata": {},
   "outputs": [],
   "source": [
    "weighted_ave = PRE0 * (42 / 114) + PRE1 * (72 / 114)\n",
    "print(f\"Weighted average precision: {weighted_ave:6.5f}\")"
   ]
  }
 ],
 "metadata": {
  "kernelspec": {
   "display_name": "Python 3.9.7 ('base')",
   "language": "python",
   "name": "python3"
  },
  "language_info": {
   "codemirror_mode": {
    "name": "ipython",
    "version": 3
   },
   "file_extension": ".py",
   "mimetype": "text/x-python",
   "name": "python",
   "nbconvert_exporter": "python",
   "pygments_lexer": "ipython3",
   "version": "3.11.8"
  },
  "vscode": {
   "interpreter": {
    "hash": "79088bb772545dc9740b3f6fd02f1fa74686ae15b783fc1c2abf8492adb1c7fb"
   }
  }
 },
 "nbformat": 4,
 "nbformat_minor": 2
}
