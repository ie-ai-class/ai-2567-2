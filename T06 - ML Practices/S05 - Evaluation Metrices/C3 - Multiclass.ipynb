{
 "cells": [
  {
   "cell_type": "markdown",
   "metadata": {},
   "source": [
    "# Evaluation matrices (multiclass classification)\n"
   ]
  },
  {
   "cell_type": "markdown",
   "metadata": {},
   "source": [
    "## Setting up\n",
    "- Iris data\n",
    "- 3 classes\n",
    "- 2 features\n",
    "- Logistic regression"
   ]
  },
  {
   "cell_type": "code",
   "execution_count": null,
   "metadata": {},
   "outputs": [],
   "source": [
    "import numpy as np\n",
    "import pandas as pd\n",
    "from sklearn.datasets import load_iris\n",
    "from sklearn.model_selection import train_test_split\n",
    "from sklearn.svm import SVC\n",
    "from sklearn.preprocessing import StandardScaler\n",
    "from sklearn.metrics import accuracy_score, precision_score, recall_score, f1_score, balanced_accuracy_score\n",
    "\n",
    "# Iris data\n",
    "dataObj = load_iris()\n",
    "\n",
    "# X data (features)\n",
    "X = dataObj.data[:, [1, 2]]\n",
    "\n",
    "# y data\n",
    "# y = dataObj.target\n",
    "np.random.seed(0)\n",
    "y = np.random.randint(3, size=150)\n",
    "\n",
    "print(np.unique(y))\n",
    "\n",
    "# Split data\n",
    "X_train, X_test, y_train, y_test = train_test_split(X, y, test_size=0.3, random_state=1, stratify=y)\n",
    "\n",
    "# Standardize features\n",
    "sc = StandardScaler()\n",
    "sc.fit(X_train)\n",
    "X_train_std = sc.transform(X_train)\n",
    "X_test_std = sc.transform(X_test)\n",
    "\n",
    "# Constructing classifier\n",
    "svc = SVC(random_state=0, C=10)\n",
    "\n",
    "# Training\n",
    "svc.fit(X_train_std, y_train)"
   ]
  },
  {
   "cell_type": "markdown",
   "metadata": {},
   "source": [
    "## Confusion matrix"
   ]
  },
  {
   "cell_type": "code",
   "execution_count": null,
   "metadata": {},
   "outputs": [],
   "source": [
    "from sklearn.metrics import confusion_matrix\n",
    "\n",
    "y_pred = svc.predict(X_test_std)\n",
    "confusion_matrix(y_true=y_test, y_pred=y_pred)"
   ]
  },
  {
   "cell_type": "code",
   "execution_count": null,
   "metadata": {},
   "outputs": [],
   "source": [
    "import matplotlib.pyplot as plt\n",
    "from sklearn.metrics import ConfusionMatrixDisplay\n",
    "\n",
    "ConfusionMatrixDisplay.from_estimator(\n",
    "    estimator=svc, X=X_test_std, y=y_test, display_labels=dataObj.target_names\n",
    ")\n",
    "plt.show()  "
   ]
  },
  {
   "cell_type": "markdown",
   "metadata": {},
   "source": [
    "Compute class-wise (default) multilabel confusion matrix to evaluate the accuracy of a classification, and output confusion matrices for each class or sample.\n",
    "\n",
    "Note that I used `np.flip` to reverse the order of the element to make the output consistent with what we used previously."
   ]
  },
  {
   "cell_type": "code",
   "execution_count": null,
   "metadata": {},
   "outputs": [],
   "source": [
    "import seaborn as sns\n",
    "from sklearn.metrics import multilabel_confusion_matrix\n",
    "\n",
    "#Multilabel confusion matrix\n",
    "matrices = multilabel_confusion_matrix(y_true=y_test, y_pred=y_pred)\n",
    "# print(matrices)\n",
    "\n",
    "nc = np.unique(y).shape[0]\n",
    "fig, axs = plt.subplots(nc, 1, figsize=(5,nc*4))\n",
    "for idx, m in enumerate(matrices):\n",
    "    sns.heatmap(np.flip(m), annot=True, cmap='Blues', ax=axs[idx])\n",
    "    axs[idx].set_title(f'Class {idx}')\n"
   ]
  },
  {
   "cell_type": "markdown",
   "metadata": {},
   "source": [
    "## Accuracy, Precision, Recall, F1"
   ]
  },
  {
   "cell_type": "markdown",
   "metadata": {},
   "source": [
    "#### Accuracy"
   ]
  },
  {
   "cell_type": "code",
   "execution_count": null,
   "metadata": {},
   "outputs": [],
   "source": [
    "acc = accuracy_score(y_test, y_pred)\n",
    "print(f'Accuracy = {acc:6.5f}')\n",
    "\n",
    "acc = (6 + 5 + 2) / (45)\n",
    "print(f'Accuracy = {acc:6.5f}')"
   ]
  },
  {
   "cell_type": "code",
   "execution_count": null,
   "metadata": {},
   "outputs": [],
   "source": [
    "# Balanced accuracy (defiend as the macro average of recall obtained on each class)\n",
    "REC0 = 6 / (6 + 9 + 2)\n",
    "REC1 = 5 / (5 + 4 + 4)\n",
    "REC2 = 2 / (2 + 7 + 6)\n",
    "\n",
    "bal_acc = (REC0 + REC1 + REC2) / 3\n",
    "print(f'Balanced Accuracy = {bal_acc:6.5f}')\n",
    "\n",
    "bal_acc = recall_score(y_test, y_pred, average='macro')\n",
    "print(f'Balanced Accuracy = {bal_acc:6.5f}')\n",
    "\n",
    "bal_acc = balanced_accuracy_score(y_test, y_pred)\n",
    "print(f'Balanced Accuracy = {bal_acc:6.5f}')"
   ]
  },
  {
   "cell_type": "markdown",
   "metadata": {},
   "source": [
    "#### Summary using `classification_report`\n",
    "\n",
    "`Support` is the number of true instances for each label."
   ]
  },
  {
   "cell_type": "code",
   "execution_count": null,
   "metadata": {},
   "outputs": [],
   "source": [
    "from sklearn.metrics import classification_report\n",
    "print(classification_report(y_test, y_pred,  digits=4))"
   ]
  },
  {
   "cell_type": "markdown",
   "metadata": {},
   "source": [
    "#### Precision, Recall, F1\n",
    "\n",
    "Note that micro average is the same as accuracy."
   ]
  },
  {
   "cell_type": "code",
   "execution_count": null,
   "metadata": {},
   "outputs": [],
   "source": [
    "# Precision\n",
    "datas = []\n",
    "for average in ['macro', 'weighted', 'micro']:\n",
    "    PRE = precision_score(y_true=y_test, y_pred=y_pred, average=average)\n",
    "    REC = recall_score(y_true=y_test, y_pred=y_pred, average=average)\n",
    "    F1 = f1_score(y_true=y_test, y_pred=y_pred, average=average)\n",
    "    data = {\"average\": average, 'precision': PRE, 'recall': REC, 'f1': F1}\n",
    "    datas.append(data)\n",
    "\n",
    "df = pd.DataFrame(datas).set_index('average')\n",
    "display(df)\n",
    "\n",
    "print(f\"Accuracy: {accuracy_score(y_test, y_pred):6.5f}\")"
   ]
  },
  {
   "cell_type": "markdown",
   "metadata": {},
   "source": [
    "#### Summary using `classification_report`\n",
    "\n",
    "`Support` is the number of true instances for each label."
   ]
  },
  {
   "cell_type": "code",
   "execution_count": null,
   "metadata": {},
   "outputs": [],
   "source": [
    "from sklearn.metrics import classification_report\n",
    "print(classification_report(y_test, y_pred,  digits=4))"
   ]
  },
  {
   "cell_type": "markdown",
   "metadata": {},
   "source": [
    "## Extra"
   ]
  },
  {
   "cell_type": "markdown",
   "metadata": {},
   "source": [
    "Calculate classwise values"
   ]
  },
  {
   "cell_type": "code",
   "execution_count": null,
   "metadata": {},
   "outputs": [],
   "source": [
    "PRE = precision_score(y_true=y_test, y_pred=y_pred, average=None)\n",
    "REC = recall_score(y_true=y_test, y_pred=y_pred, average=None)\n",
    "F1 = f1_score(y_true=y_test, y_pred=y_pred, average=None)\n",
    "print(PRE, REC, F1)\n",
    "dft = pd.DataFrame( [PRE, REC, F1]).transpose()\n",
    "dft.columns=['precision', 'recall', 'f1']\n",
    "dft.index.names = ['class']\n",
    "dft"
   ]
  },
  {
   "cell_type": "markdown",
   "metadata": {},
   "source": [
    "Using `precision_recall_fscore_support` functions"
   ]
  },
  {
   "cell_type": "markdown",
   "metadata": {},
   "source": [
    "Calculate average"
   ]
  },
  {
   "cell_type": "code",
   "execution_count": null,
   "metadata": {},
   "outputs": [],
   "source": [
    "from sklearn.metrics import precision_recall_fscore_support\n",
    "\n",
    "arr = []\n",
    "for average in ['macro', 'weighted', 'micro']:\n",
    "    prfs = precision_recall_fscore_support(y_test, y_pred, average=average)\n",
    "    print(prfs)\n",
    "    data = {'average': average, 'precision': prfs[0], \"recall\": prfs[1], \"f1\": prfs[2] }\n",
    "    arr.append(data)\n",
    "\n",
    "dft = pd.DataFrame.from_records(arr, index='average')\n",
    "display(dft)"
   ]
  },
  {
   "cell_type": "markdown",
   "metadata": {},
   "source": [
    "Calculate classwise values"
   ]
  },
  {
   "cell_type": "code",
   "execution_count": null,
   "metadata": {},
   "outputs": [],
   "source": [
    "prfs = precision_recall_fscore_support(y_test, y_pred, average=None)\n",
    "dft = pd.DataFrame(prfs).transpose()\n",
    "dft.columns = ['precision', 'recall', 'f1', 'support']\n",
    "dft.index.names = ['class']\n",
    "display(dft)"
   ]
  }
 ],
 "metadata": {
  "kernelspec": {
   "display_name": "Python 3.9.7 ('base')",
   "language": "python",
   "name": "python3"
  },
  "language_info": {
   "codemirror_mode": {
    "name": "ipython",
    "version": 3
   },
   "file_extension": ".py",
   "mimetype": "text/x-python",
   "name": "python",
   "nbconvert_exporter": "python",
   "pygments_lexer": "ipython3",
   "version": "3.11.8"
  },
  "vscode": {
   "interpreter": {
    "hash": "79088bb772545dc9740b3f6fd02f1fa74686ae15b783fc1c2abf8492adb1c7fb"
   }
  }
 },
 "nbformat": 4,
 "nbformat_minor": 2
}
