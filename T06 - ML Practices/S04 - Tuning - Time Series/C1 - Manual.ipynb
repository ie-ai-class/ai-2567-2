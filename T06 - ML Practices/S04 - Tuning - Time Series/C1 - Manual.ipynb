{
 "cells": [
  {
   "cell_type": "markdown",
   "metadata": {},
   "source": [
    "# Parameter tuning for time series forecasting\n",
    "\n",
    "## Manual"
   ]
  },
  {
   "cell_type": "code",
   "execution_count": null,
   "metadata": {},
   "outputs": [],
   "source": [
    "from matplotlib import pyplot as plt\n",
    "import numpy as np\n",
    "import pandas as pd\n",
    "from aeon.datasets import load_airline\n",
    "from aeon.utils.plotting import plot_series\n",
    "from aeon.forecasting.model_selection import temporal_train_test_split\n",
    "from aeon.forecasting.arima import ARIMA\n",
    "from aeon.performance_metrics.forecasting import mean_absolute_percentage_error\n",
    "from aeon.forecasting.model_selection import ExpandingWindowSplitter, SlidingWindowSplitter\n",
    "from utils import plot_windows, get_windows\n"
   ]
  },
  {
   "cell_type": "markdown",
   "metadata": {},
   "source": [
    "### Setting up"
   ]
  },
  {
   "cell_type": "code",
   "execution_count": null,
   "metadata": {},
   "outputs": [],
   "source": [
    "y = load_airline()\n",
    "plot_series(y)\n",
    "plt.show()"
   ]
  },
  {
   "cell_type": "code",
   "execution_count": null,
   "metadata": {},
   "outputs": [],
   "source": [
    "y_train, y_test = temporal_train_test_split(y, test_size=36)"
   ]
  },
  {
   "cell_type": "code",
   "execution_count": null,
   "metadata": {},
   "outputs": [],
   "source": [
    "fh=np.arange(len(y_test)) + 1\n",
    "print(fh)"
   ]
  },
  {
   "cell_type": "markdown",
   "metadata": {},
   "source": [
    "### ExpandingWindowSplitter"
   ]
  },
  {
   "cell_type": "code",
   "execution_count": null,
   "metadata": {},
   "outputs": [],
   "source": [
    "splitter = ExpandingWindowSplitter(fh=fh, initial_window=50, step_length=1)\n",
    "train_windows, test_windows = get_windows(y_train, splitter)\n",
    "plot_windows(y_train, train_windows, test_windows)"
   ]
  },
  {
   "cell_type": "code",
   "execution_count": null,
   "metadata": {},
   "outputs": [],
   "source": [
    "# Manually extract indices\n",
    "splitter = ExpandingWindowSplitter(fh=fh, initial_window=50, step_length=1)\n",
    "cvs = splitter.split(y_train)\n",
    "\n",
    "datas = []\n",
    "for iTrain, iTest in cvs:\n",
    "    data = {\"train\": iTrain, \"test\": iTest}\n",
    "    datas.append(data)\n",
    "\n",
    "df = pd.DataFrame.from_dict(datas)\n",
    "display(df.head(10))"
   ]
  },
  {
   "cell_type": "markdown",
   "metadata": {},
   "source": [
    "### SlidingWindowSplitter"
   ]
  },
  {
   "cell_type": "code",
   "execution_count": null,
   "metadata": {},
   "outputs": [],
   "source": [
    "splitter = SlidingWindowSplitter(fh=fh, window_length=50, step_length=1)\n",
    "train_windows, test_windows = get_windows(y_train, splitter)\n",
    "plot_windows(y_train, train_windows, test_windows)"
   ]
  },
  {
   "cell_type": "code",
   "execution_count": null,
   "metadata": {},
   "outputs": [],
   "source": [
    "# Manually extract indices\n",
    "splitter = SlidingWindowSplitter(fh=fh, window_length=50, step_length=1)\n",
    "cvs = splitter.split(y_train)\n",
    "\n",
    "datas = []\n",
    "for iTrain, iTest in cvs:\n",
    "    data = {\"train\": iTrain, \"test\": iTest}\n",
    "    datas.append(data)\n",
    "\n",
    "df = pd.DataFrame.from_dict(datas)\n",
    "display(df.head(10))"
   ]
  },
  {
   "cell_type": "markdown",
   "metadata": {},
   "source": [
    "### Cross validation (manual)"
   ]
  },
  {
   "cell_type": "code",
   "execution_count": null,
   "metadata": {},
   "outputs": [],
   "source": [
    "forecaster = ARIMA(order=(1, 1, 0), seasonal_order=(1, 1, 0, 12))  \n",
    "splitter = ExpandingWindowSplitter(fh=fh, initial_window=50, step_length=1)\n",
    "cvs = splitter.split(y_train)\n",
    "\n",
    "datas = []\n",
    "for ix, iy in cvs:\n",
    "    # Get data\n",
    "    y_train_cv = y_train.iloc[ix]\n",
    "    y_test_cv = y.iloc[iy]\n",
    "    # Train the model\n",
    "    forecaster.fit(y_train_cv)\n",
    "    # Predict\n",
    "    y_pred_cv = forecaster.predict(fh)\n",
    "    # Evaluate\n",
    "    mape = mean_absolute_percentage_error(y_test_cv, y_pred_cv)\n",
    "    # storing the results\n",
    "    data = {\"mape\": mape}\n",
    "    datas.append(data)\n",
    "\n",
    "df = pd.DataFrame.from_dict(datas)\n",
    "display(df.describe())\n"
   ]
  },
  {
   "cell_type": "markdown",
   "metadata": {},
   "source": [
    "### Parameter tuning"
   ]
  },
  {
   "cell_type": "code",
   "execution_count": null,
   "metadata": {},
   "outputs": [],
   "source": [
    "sOrders = np.arange(8, 15)\n",
    "\n",
    "datas = []\n",
    "for sOrder in sOrders:\n",
    "    \n",
    "    forecaster = ARIMA(order=(1, 1, 0), seasonal_order=(1, 1, 0, sOrder))\n",
    "    # Need to recompute the splitter because the iterator is exhausted\n",
    "    splitter = ExpandingWindowSplitter(fh=fh, initial_window=50, step_length=1) \n",
    "    cvs = splitter.split(y_train)\n",
    "    \n",
    "    datasTemp = [] \n",
    "    for ix, iy in cvs:\n",
    "        # Get data\n",
    "        y_train_cv = y_train.iloc[ix]\n",
    "        y_test_cv = y.iloc[iy]\n",
    "        # Train the model\n",
    "        forecaster.fit(y_train_cv)\n",
    "        # Predict\n",
    "        y_pred_cv = forecaster.predict(fh)\n",
    "        # Evaluate\n",
    "        mape = mean_absolute_percentage_error(y_test_cv, y_pred_cv)\n",
    "        # storing the results\n",
    "        data = {\"mape\": mape}\n",
    "        datasTemp.append(data)\n",
    "\n",
    "    dfTemp = pd.DataFrame.from_dict(datasTemp)\n",
    "    data = {\n",
    "        \"sOrder\": sOrder,\n",
    "        \"mapeMean\": dfTemp[\"mape\"].mean(),\n",
    "        \"mapeStd\": dfTemp[\"mape\"].std()\n",
    "    }\n",
    "    datas.append(data)\n",
    "\n",
    "df = pd.DataFrame.from_dict(datas)\n",
    "display(df)"
   ]
  },
  {
   "cell_type": "code",
   "execution_count": null,
   "metadata": {},
   "outputs": [],
   "source": [
    "df.plot(x=\"sOrder\", y=\"mapeMean\", yerr=\"mapeStd\")\n",
    "plt.show()"
   ]
  },
  {
   "cell_type": "markdown",
   "metadata": {},
   "source": [
    "### Retrain"
   ]
  },
  {
   "cell_type": "code",
   "execution_count": null,
   "metadata": {},
   "outputs": [],
   "source": [
    "sOrder_best = df.sort_values(by=\"mapeMean\").iloc[0]['sOrder']\n",
    "print(sOrder_best)\n",
    "forecaster = ARIMA(order=(1, 1, 0), seasonal_order=(1, 1, 0, sOrder_best))\n",
    "forecaster.fit(y_train)"
   ]
  },
  {
   "cell_type": "markdown",
   "metadata": {},
   "source": [
    "### Test result"
   ]
  },
  {
   "cell_type": "code",
   "execution_count": null,
   "metadata": {},
   "outputs": [],
   "source": [
    "y_pred = forecaster.predict(fh)\n",
    "mape = mean_absolute_percentage_error(y_test, y_pred)\n",
    "print(f\"mape: {mape}\")"
   ]
  }
 ],
 "metadata": {
  "kernelspec": {
   "display_name": "Python 3",
   "language": "python",
   "name": "python3"
  },
  "language_info": {
   "codemirror_mode": {
    "name": "ipython",
    "version": 3
   },
   "file_extension": ".py",
   "mimetype": "text/x-python",
   "name": "python",
   "nbconvert_exporter": "python",
   "pygments_lexer": "ipython3",
   "version": "3.11.7"
  }
 },
 "nbformat": 4,
 "nbformat_minor": 2
}
