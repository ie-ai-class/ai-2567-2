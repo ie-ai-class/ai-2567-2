{
 "cells": [
  {
   "cell_type": "markdown",
   "source": [
    "# CNN MNIST"
   ],
   "metadata": {}
  },
  {
   "cell_type": "markdown",
   "source": [
    "## Loading and preprocessing the data"
   ],
   "metadata": {}
  },
  {
   "cell_type": "code",
   "execution_count": 20,
   "source": [
    "import tensorflow as tf\n",
    "import matplotlib.pyplot as plt\n",
    "import itertools \n",
    "import numpy as np"
   ],
   "outputs": [],
   "metadata": {}
  },
  {
   "cell_type": "code",
   "execution_count": 2,
   "source": [
    "print(\"Num GPUs Available: \", len(tf.config.experimental.list_physical_devices('GPU')))"
   ],
   "outputs": [
    {
     "output_type": "stream",
     "name": "stdout",
     "text": [
      "Num GPUs Available:  0\n"
     ]
    },
    {
     "output_type": "stream",
     "name": "stderr",
     "text": [
      "2021-09-14 17:03:23.870672: I tensorflow/compiler/jit/xla_cpu_device.cc:41] Not creating XLA devices, tf_xla_enable_xla_devices not set\n"
     ]
    }
   ],
   "metadata": {}
  },
  {
   "cell_type": "code",
   "execution_count": 3,
   "source": [
    "mnist = tf.keras.datasets.mnist\n",
    "\n",
    "(X_train_, y_train), (X_test_, y_test) = mnist.load_data()\n",
    "X_train_, X_test_ = X_train_.astype(np.float32) / 255.0, X_test_.astype(np.float32)/ 255.0"
   ],
   "outputs": [],
   "metadata": {}
  },
  {
   "cell_type": "code",
   "execution_count": 4,
   "source": [
    "print(X_train_.shape)\n",
    "print(X_test_.shape)\n",
    "print(y_train.shape)\n",
    "print(y_test.shape)"
   ],
   "outputs": [
    {
     "output_type": "stream",
     "name": "stdout",
     "text": [
      "(60000, 28, 28)\n",
      "(10000, 28, 28)\n",
      "(60000,)\n",
      "(10000,)\n"
     ]
    }
   ],
   "metadata": {}
  },
  {
   "cell_type": "code",
   "execution_count": 5,
   "source": [
    "# Add another dimension\n",
    "X_train = X_train_[..., np.newaxis]\n",
    "X_test = X_test_[..., np.newaxis]\n",
    "print(X_train.shape)\n",
    "print(X_test.shape)"
   ],
   "outputs": [
    {
     "output_type": "stream",
     "name": "stdout",
     "text": [
      "(60000, 28, 28, 1)\n",
      "(10000, 28, 28, 1)\n"
     ]
    }
   ],
   "metadata": {}
  },
  {
   "cell_type": "code",
   "execution_count": 6,
   "source": [
    "# Reduce dimension size\n",
    "np.random.seed(0) \n",
    "\n",
    "REDUCE_DIM = 2000\n",
    "idx = np.random.permutation(REDUCE_DIM)\n",
    "\n",
    "X_train = X_train[idx]\n",
    "y_train = y_train[idx]\n",
    "X_test = X_test[idx]\n",
    "y_test = y_test[idx]\n",
    "\n",
    "print(X_train.shape)\n",
    "print(X_test.shape)\n",
    "print(y_train.shape)\n",
    "print(y_test.shape)"
   ],
   "outputs": [
    {
     "output_type": "stream",
     "name": "stdout",
     "text": [
      "(2000, 28, 28, 1)\n",
      "(2000, 28, 28, 1)\n",
      "(2000,)\n",
      "(2000,)\n"
     ]
    }
   ],
   "metadata": {}
  },
  {
   "cell_type": "markdown",
   "source": [
    "### Implementing a CNN using the TensorFlow Keras API\n",
    "\n",
    "#### Configuring CNN layers in Keras\n",
    "\n",
    " * **Conv2D:** `tf.keras.layers.Conv2D`\n",
    "   * `filters`\n",
    "   * `kernel_size`\n",
    "   * `strides`\n",
    "   * `padding`\n",
    "   \n",
    "   \n",
    " * **MaxPool2D:** `tf.keras.layers.MaxPool2D`\n",
    "   * `pool_size`\n",
    "   * `strides`\n",
    "   * `padding`\n",
    "   \n",
    "   \n",
    " * **Dropout** `tf.keras.layers.Dropout2D`\n",
    "   * `rate`"
   ],
   "metadata": {}
  },
  {
   "cell_type": "markdown",
   "source": [
    "### Constructing a CNN in Keras"
   ],
   "metadata": {}
  },
  {
   "cell_type": "code",
   "execution_count": 7,
   "source": [
    "tf.keras.backend.clear_session()\n",
    "\n",
    "model = tf.keras.Sequential()\n",
    "\n",
    "model.add(tf.keras.layers.Input(\n",
    "    shape=(28,28,1)))\n",
    "\n",
    "model.add(tf.keras.layers.Conv2D(\n",
    "    filters=32, kernel_size=(5, 5),\n",
    "    strides=(1, 1), padding='same',\n",
    "    data_format='channels_last',\n",
    "    name='conv_1', activation='relu'))\n",
    "\n",
    "model.add(tf.keras.layers.MaxPool2D(\n",
    "    pool_size=(2, 2), name='pool_1'))\n",
    "    \n",
    "model.add(tf.keras.layers.Conv2D(\n",
    "    filters=64, kernel_size=(5, 5),\n",
    "    strides=(1, 1), padding='same',\n",
    "    name='conv_2', activation='relu'))\n",
    "\n",
    "model.add(tf.keras.layers.MaxPool2D(pool_size=(2, 2), name='pool_2'))\n"
   ],
   "outputs": [
    {
     "output_type": "stream",
     "name": "stderr",
     "text": [
      "2021-09-14 17:03:24.392589: I tensorflow/core/platform/cpu_feature_guard.cc:142] This TensorFlow binary is optimized with oneAPI Deep Neural Network Library (oneDNN) to use the following CPU instructions in performance-critical operations:  SSE4.1 SSE4.2 AVX AVX2 FMA\n",
      "To enable them in other operations, rebuild TensorFlow with the appropriate compiler flags.\n",
      "2021-09-14 17:03:24.393460: I tensorflow/core/common_runtime/process_util.cc:146] Creating new thread pool with default inter op setting: 2. Tune using inter_op_parallelism_threads for best performance.\n"
     ]
    }
   ],
   "metadata": {}
  },
  {
   "cell_type": "code",
   "execution_count": 8,
   "source": [
    "model.compute_output_shape(input_shape=(16, 28, 28, 1))"
   ],
   "outputs": [
    {
     "output_type": "execute_result",
     "data": {
      "text/plain": [
       "TensorShape([16, 7, 7, 64])"
      ]
     },
     "metadata": {},
     "execution_count": 8
    }
   ],
   "metadata": {}
  },
  {
   "cell_type": "code",
   "execution_count": 9,
   "source": [
    "model.add(tf.keras.layers.Flatten())\n",
    "    \n",
    "model.compute_output_shape(input_shape=(16, 28, 28, 1))"
   ],
   "outputs": [
    {
     "output_type": "execute_result",
     "data": {
      "text/plain": [
       "TensorShape([16, 3136])"
      ]
     },
     "metadata": {},
     "execution_count": 9
    }
   ],
   "metadata": {}
  },
  {
   "cell_type": "code",
   "execution_count": 10,
   "source": [
    "model.add(tf.keras.layers.Dense(\n",
    "    units=1024, name='fc_1', \n",
    "    activation='relu'))\n",
    "\n",
    "model.add(tf.keras.layers.Dropout(\n",
    "    rate=0.5))\n",
    "    \n",
    "model.add(tf.keras.layers.Dense(\n",
    "    units=10, name='fc_2',\n",
    "    activation='softmax'))"
   ],
   "outputs": [],
   "metadata": {}
  },
  {
   "cell_type": "code",
   "execution_count": 11,
   "source": [
    "tf.random.set_seed(1)\n",
    "model.build(input_shape=(None, 28, 28, 1))\n",
    "\n",
    "model.compute_output_shape(input_shape=(16, 28, 28, 1))"
   ],
   "outputs": [
    {
     "output_type": "execute_result",
     "data": {
      "text/plain": [
       "TensorShape([16, 10])"
      ]
     },
     "metadata": {},
     "execution_count": 11
    }
   ],
   "metadata": {}
  },
  {
   "cell_type": "code",
   "execution_count": 12,
   "source": [
    "model.summary()"
   ],
   "outputs": [
    {
     "output_type": "stream",
     "name": "stdout",
     "text": [
      "Model: \"sequential\"\n",
      "_________________________________________________________________\n",
      "Layer (type)                 Output Shape              Param #   \n",
      "=================================================================\n",
      "conv_1 (Conv2D)              (None, 28, 28, 32)        832       \n",
      "_________________________________________________________________\n",
      "pool_1 (MaxPooling2D)        (None, 14, 14, 32)        0         \n",
      "_________________________________________________________________\n",
      "conv_2 (Conv2D)              (None, 14, 14, 64)        51264     \n",
      "_________________________________________________________________\n",
      "pool_2 (MaxPooling2D)        (None, 7, 7, 64)          0         \n",
      "_________________________________________________________________\n",
      "flatten (Flatten)            (None, 3136)              0         \n",
      "_________________________________________________________________\n",
      "fc_1 (Dense)                 (None, 1024)              3212288   \n",
      "_________________________________________________________________\n",
      "dropout (Dropout)            (None, 1024)              0         \n",
      "_________________________________________________________________\n",
      "fc_2 (Dense)                 (None, 10)                10250     \n",
      "=================================================================\n",
      "Total params: 3,274,634\n",
      "Trainable params: 3,274,634\n",
      "Non-trainable params: 0\n",
      "_________________________________________________________________\n"
     ]
    }
   ],
   "metadata": {}
  },
  {
   "cell_type": "code",
   "execution_count": 13,
   "source": [
    "model.compile(optimizer=tf.keras.optimizers.Adam(),\n",
    "              loss=tf.keras.losses.SparseCategoricalCrossentropy(),\n",
    "              metrics=['accuracy']) # same as `tf.keras.metrics.SparseCategoricalAccuracy(name='accuracy')`\n"
   ],
   "outputs": [],
   "metadata": {}
  },
  {
   "cell_type": "code",
   "execution_count": 14,
   "source": [
    "history = model.fit(X_train, y_train, epochs=20, validation_split=0.1)"
   ],
   "outputs": [
    {
     "output_type": "stream",
     "name": "stderr",
     "text": [
      "2021-09-14 17:03:24.851376: I tensorflow/compiler/mlir/mlir_graph_optimization_pass.cc:116] None of the MLIR optimization passes are enabled (registered 2)\n",
      "2021-09-14 17:03:24.868754: I tensorflow/core/platform/profile_utils/cpu_utils.cc:112] CPU Frequency: 1999965000 Hz\n"
     ]
    },
    {
     "output_type": "stream",
     "name": "stdout",
     "text": [
      "Epoch 1/20\n",
      "57/57 [==============================] - 8s 122ms/step - loss: 1.3684 - accuracy: 0.5522 - val_loss: 0.3617 - val_accuracy: 0.8900\n",
      "Epoch 2/20\n",
      "57/57 [==============================] - 8s 132ms/step - loss: 0.3144 - accuracy: 0.9084 - val_loss: 0.2143 - val_accuracy: 0.9300\n",
      "Epoch 3/20\n",
      "57/57 [==============================] - 7s 130ms/step - loss: 0.1375 - accuracy: 0.9530 - val_loss: 0.2079 - val_accuracy: 0.9400\n",
      "Epoch 4/20\n",
      "57/57 [==============================] - 7s 121ms/step - loss: 0.1208 - accuracy: 0.9597 - val_loss: 0.1265 - val_accuracy: 0.9600\n",
      "Epoch 5/20\n",
      "57/57 [==============================] - 7s 122ms/step - loss: 0.0645 - accuracy: 0.9817 - val_loss: 0.1528 - val_accuracy: 0.9500\n",
      "Epoch 6/20\n",
      "57/57 [==============================] - 8s 137ms/step - loss: 0.0889 - accuracy: 0.9741 - val_loss: 0.1596 - val_accuracy: 0.9500\n",
      "Epoch 7/20\n",
      "57/57 [==============================] - 7s 126ms/step - loss: 0.0424 - accuracy: 0.9845 - val_loss: 0.1533 - val_accuracy: 0.9400\n",
      "Epoch 8/20\n",
      "57/57 [==============================] - 7s 119ms/step - loss: 0.0207 - accuracy: 0.9947 - val_loss: 0.2144 - val_accuracy: 0.9250\n",
      "Epoch 9/20\n",
      "57/57 [==============================] - 7s 129ms/step - loss: 0.0217 - accuracy: 0.9951 - val_loss: 0.2009 - val_accuracy: 0.9350\n",
      "Epoch 10/20\n",
      "57/57 [==============================] - 8s 146ms/step - loss: 0.0153 - accuracy: 0.9953 - val_loss: 0.1788 - val_accuracy: 0.9300\n",
      "Epoch 11/20\n",
      "57/57 [==============================] - 7s 117ms/step - loss: 0.0278 - accuracy: 0.9900 - val_loss: 0.1938 - val_accuracy: 0.9550\n",
      "Epoch 12/20\n",
      "57/57 [==============================] - 8s 142ms/step - loss: 0.0162 - accuracy: 0.9945 - val_loss: 0.1844 - val_accuracy: 0.9550\n",
      "Epoch 13/20\n",
      "57/57 [==============================] - 8s 142ms/step - loss: 0.0100 - accuracy: 0.9959 - val_loss: 0.2037 - val_accuracy: 0.9500\n",
      "Epoch 14/20\n",
      "57/57 [==============================] - 8s 138ms/step - loss: 0.0096 - accuracy: 0.9970 - val_loss: 0.2512 - val_accuracy: 0.9400\n",
      "Epoch 15/20\n",
      "57/57 [==============================] - 7s 131ms/step - loss: 0.0088 - accuracy: 0.9965 - val_loss: 0.2014 - val_accuracy: 0.9500\n",
      "Epoch 16/20\n",
      "57/57 [==============================] - 7s 129ms/step - loss: 0.0044 - accuracy: 0.9984 - val_loss: 0.2333 - val_accuracy: 0.9550\n",
      "Epoch 17/20\n",
      "57/57 [==============================] - 7s 126ms/step - loss: 0.0025 - accuracy: 0.9990 - val_loss: 0.2075 - val_accuracy: 0.9550\n",
      "Epoch 18/20\n",
      "57/57 [==============================] - 7s 124ms/step - loss: 0.0066 - accuracy: 0.9992 - val_loss: 0.1921 - val_accuracy: 0.9350\n",
      "Epoch 19/20\n",
      "57/57 [==============================] - 7s 127ms/step - loss: 0.0095 - accuracy: 0.9964 - val_loss: 0.2190 - val_accuracy: 0.9500\n",
      "Epoch 20/20\n",
      "57/57 [==============================] - 7s 118ms/step - loss: 0.0046 - accuracy: 0.9989 - val_loss: 0.2408 - val_accuracy: 0.9300\n"
     ]
    }
   ],
   "metadata": {}
  },
  {
   "cell_type": "code",
   "execution_count": 15,
   "source": [
    "hist = history.history\n",
    "x_arr = np.arange(len(hist['loss'])) + 1\n",
    "\n",
    "fig = plt.figure(figsize=(12, 4))\n",
    "ax = fig.add_subplot(1, 2, 1)\n",
    "ax.plot(x_arr, hist['loss'], '-o', label='Train loss')\n",
    "ax.plot(x_arr, hist['val_loss'], '--<', label='Validation loss')\n",
    "ax.set_xlabel('Epoch', size=15)\n",
    "ax.set_ylabel('Loss', size=15)\n",
    "ax.legend(fontsize=15)\n",
    "ax = fig.add_subplot(1, 2, 2)\n",
    "ax.plot(x_arr, hist['accuracy'], '-o', label='Train acc.')\n",
    "ax.plot(x_arr, hist['val_accuracy'], '--<', label='Validation acc.')\n",
    "ax.legend(fontsize=15)\n",
    "ax.set_xlabel('Epoch', size=15)\n",
    "ax.set_ylabel('Accuracy', size=15)\n",
    "\n",
    "#plt.savefig('figures/15_12.png', dpi=300)\n",
    "plt.show()"
   ],
   "outputs": [
    {
     "output_type": "display_data",
     "data": {
      "image/png": "[encoded data removed]",
      "text/plain": [
       "<Figure size 864x288 with 2 Axes>"
      ]
     },
     "metadata": {
      "needs_background": "light"
     }
    }
   ],
   "metadata": {}
  },
  {
   "cell_type": "code",
   "execution_count": 17,
   "source": [
    "test_results = model.evaluate(X_test, y_test)\n",
    "print('\\nTest Acc. {:.2f}%'.format(test_results[1]*100))"
   ],
   "outputs": [
    {
     "output_type": "stream",
     "name": "stdout",
     "text": [
      "63/63 [==============================] - 3s 49ms/step - loss: 0.2518 - accuracy: 0.9505\n",
      "\n",
      "Test Acc. 95.05%\n"
     ]
    }
   ],
   "metadata": {}
  },
  {
   "cell_type": "code",
   "execution_count": 18,
   "source": [
    "# Find misclassification\n",
    "y_pred_tf = model(X_test)\n",
    "y_pred_tf.numpy().shape\n",
    "\n",
    "y_pred = tf.math.argmax(y_pred_tf,axis=1).numpy()\n",
    "print(y_pred.shape)\n",
    "print(y_test.shape)\n",
    "\n",
    "loc = y_pred != y_test\n",
    "print(f'Missclassification = {loc.sum()}')"
   ],
   "outputs": [
    {
     "output_type": "stream",
     "name": "stdout",
     "text": [
      "(2000,)\n",
      "(2000,)\n",
      "Missclassification = 99\n"
     ]
    }
   ],
   "metadata": {}
  },
  {
   "cell_type": "code",
   "execution_count": 21,
   "source": [
    "fig, axes2D = plt.subplots(3,5, figsize=(12,8))\n",
    "axes = list(itertools.chain.from_iterable(axes2D)) # Flatten 2D list\n",
    "X_test_miss = X_test[loc]\n",
    "y_test_miss = y_test[loc]\n",
    "y_pred_miss = y_pred[loc]\n",
    "for idx, ax in enumerate(axes):\n",
    "    ax.imshow(X_test_miss[idx], cmap='gray')\n",
    "    ax.set_title(f'True={y_test_miss[idx]}, Pred={y_pred_miss[idx]}')\n",
    "fig.tight_layout()\n",
    "plt.show()"
   ],
   "outputs": [
    {
     "output_type": "display_data",
     "data": {
      "image/png": "[encoded data removed]",
      "text/plain": [
       "<Figure size 864x576 with 15 Axes>"
      ]
     },
     "metadata": {
      "needs_background": "light"
     }
    }
   ],
   "metadata": {}
  },
  {
   "cell_type": "code",
   "execution_count": null,
   "source": [],
   "outputs": [],
   "metadata": {}
  }
 ],
 "metadata": {
  "kernelspec": {
   "name": "python3",
   "display_name": "Python 3.8.11 64-bit ('tf': conda)"
  },
  "language_info": {
   "codemirror_mode": {
    "name": "ipython",
    "version": 3
   },
   "file_extension": ".py",
   "mimetype": "text/x-python",
   "name": "python",
   "nbconvert_exporter": "python",
   "pygments_lexer": "ipython3",
   "version": "3.8.11"
  },
  "interpreter": {
   "hash": "183983f8581d242f392f04aa55828dc2781ebbbbdf8bf6ac72073cf044539615"
  }
 },
 "nbformat": 4,
 "nbformat_minor": 4
}