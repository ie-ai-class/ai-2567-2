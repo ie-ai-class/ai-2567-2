{
 "cells": [
  {
   "cell_type": "markdown",
   "source": [
    "# MNIST Data - Sequential API\r\n",
    "- This is a dataset of 60,000 28x28 grayscale images of the 10 digits, along with a test set of 10,000 images.\r\n",
    "- https://www.tensorflow.org/api_docs/python/tf/keras/datasets/mnist/load_data"
   ],
   "metadata": {}
  },
  {
   "cell_type": "code",
   "execution_count": 14,
   "source": [
    "import tensorflow as tf\n",
    "import matplotlib.pyplot as plt\n",
    "import itertools \n",
    "import numpy as np"
   ],
   "outputs": [],
   "metadata": {
    "execution": {
     "iopub.execute_input": "2021-06-16T19:21:02.775749Z",
     "iopub.status.busy": "2021-06-16T19:21:02.775178Z",
     "iopub.status.idle": "2021-06-16T19:21:04.172552Z",
     "shell.execute_reply": "2021-06-16T19:21:04.172947Z"
    },
    "id": "0trJmd6DjqBZ"
   }
  },
  {
   "cell_type": "markdown",
   "source": [
    "## Data"
   ],
   "metadata": {}
  },
  {
   "cell_type": "code",
   "execution_count": 15,
   "source": [
    "mnist = tf.keras.datasets.mnist\n",
    "\n",
    "(X_train_, y_train), (X_test_, y_test) = mnist.load_data()\n",
    "X_train_, X_test_ = X_train_.astype(np.float32) / 255.0, X_test_.astype(np.float32)/ 255.0"
   ],
   "outputs": [],
   "metadata": {
    "execution": {
     "iopub.execute_input": "2021-06-16T19:21:04.177134Z",
     "iopub.status.busy": "2021-06-16T19:21:04.176533Z",
     "iopub.status.idle": "2021-06-16T19:21:04.584244Z",
     "shell.execute_reply": "2021-06-16T19:21:04.584639Z"
    },
    "id": "7FP5258xjs-v"
   }
  },
  {
   "cell_type": "code",
   "execution_count": 16,
   "source": [
    "print(X_train_.shape)\n",
    "print(X_test_.shape)\n",
    "print(y_train.shape)\n",
    "print(y_test.shape)"
   ],
   "outputs": [
    {
     "output_type": "stream",
     "name": "stdout",
     "text": [
      "(60000, 28, 28)\n",
      "(10000, 28, 28)\n",
      "(60000,)\n",
      "(10000,)\n"
     ]
    }
   ],
   "metadata": {}
  },
  {
   "cell_type": "code",
   "execution_count": 17,
   "source": [
    "# Reduce dimension size\n",
    "np.random.seed(0) \n",
    "\n",
    "REDUCE_DIM = 2000\n",
    "idx = np.random.permutation(REDUCE_DIM)\n",
    "\n",
    "X_train = X_train_[idx]\n",
    "y_train = y_train[idx]\n",
    "X_test = X_test_[idx]\n",
    "y_test = y_test[idx]\n",
    "\n",
    "print(X_train.shape)\n",
    "print(X_test.shape)\n",
    "print(y_train.shape)\n",
    "print(y_test.shape)"
   ],
   "outputs": [
    {
     "output_type": "stream",
     "name": "stdout",
     "text": [
      "(2000, 28, 28)\n",
      "(2000, 28, 28)\n",
      "(2000,)\n",
      "(2000,)\n"
     ]
    }
   ],
   "metadata": {}
  },
  {
   "cell_type": "markdown",
   "source": [
    "## Model building\r\n",
    "- Build the `tf.keras.Sequential` model by stacking layers. Choose an optimizer and loss function for training:"
   ],
   "metadata": {
    "id": "BPZ68wASog_I"
   }
  },
  {
   "cell_type": "code",
   "execution_count": 18,
   "source": [
    "tf.keras.backend.clear_session()\n",
    "\n",
    "model = tf.keras.models.Sequential([\n",
    "  tf.keras.layers.Input(shape=(28,28)),\n",
    "  tf.keras.layers.Flatten(),\n",
    "  tf.keras.layers.Dense(128, activation='relu'),\n",
    "  # tf.keras.layers.Dropout(0.2),\n",
    "  tf.keras.layers.Dense(10)\n",
    "])"
   ],
   "outputs": [],
   "metadata": {
    "execution": {
     "iopub.execute_input": "2021-06-16T19:21:04.589243Z",
     "iopub.status.busy": "2021-06-16T19:21:04.588688Z",
     "iopub.status.idle": "2021-06-16T19:21:06.138281Z",
     "shell.execute_reply": "2021-06-16T19:21:06.138649Z"
    },
    "id": "h3IKyzTCDNGo"
   }
  },
  {
   "cell_type": "markdown",
   "source": [
    "## Compile model\r\n",
    "- Prepare for fitting"
   ],
   "metadata": {}
  },
  {
   "cell_type": "code",
   "execution_count": 19,
   "source": [
    "model.compile(optimizer='adam',\n",
    "              loss=tf.keras.losses.SparseCategoricalCrossentropy(from_logits=True),\n",
    "              metrics=['accuracy'])"
   ],
   "outputs": [],
   "metadata": {
    "execution": {
     "iopub.execute_input": "2021-06-16T19:21:06.569247Z",
     "iopub.status.busy": "2021-06-16T19:21:06.568392Z",
     "iopub.status.idle": "2021-06-16T19:21:06.573819Z",
     "shell.execute_reply": "2021-06-16T19:21:06.574146Z"
    },
    "id": "9foNKHzTD2Vo"
   }
  },
  {
   "cell_type": "code",
   "execution_count": 20,
   "source": [
    "model.summary()"
   ],
   "outputs": [
    {
     "output_type": "stream",
     "name": "stdout",
     "text": [
      "Model: \"sequential\"\n",
      "_________________________________________________________________\n",
      "Layer (type)                 Output Shape              Param #   \n",
      "=================================================================\n",
      "flatten (Flatten)            (None, 784)               0         \n",
      "_________________________________________________________________\n",
      "dense (Dense)                (None, 128)               100480    \n",
      "_________________________________________________________________\n",
      "dense_1 (Dense)              (None, 10)                1290      \n",
      "=================================================================\n",
      "Total params: 101,770\n",
      "Trainable params: 101,770\n",
      "Non-trainable params: 0\n",
      "_________________________________________________________________\n"
     ]
    }
   ],
   "metadata": {}
  },
  {
   "cell_type": "code",
   "execution_count": 21,
   "source": [
    "model.trainable_variables[0]"
   ],
   "outputs": [
    {
     "output_type": "execute_result",
     "data": {
      "text/plain": [
       "<tf.Variable 'dense/kernel:0' shape=(784, 128) dtype=float32, numpy=\n",
       "array([[-0.04687424, -0.00851243,  0.06165456, ..., -0.00479915,\n",
       "         0.06110143,  0.0500296 ],\n",
       "       [ 0.07054383,  0.02820875,  0.0519064 , ..., -0.01538563,\n",
       "         0.05915637, -0.05586063],\n",
       "       [-0.0201322 ,  0.05896071, -0.03885825, ...,  0.05931532,\n",
       "        -0.04632793, -0.02942678],\n",
       "       ...,\n",
       "       [-0.07527557, -0.04598112, -0.06555264, ..., -0.04144285,\n",
       "         0.01034114,  0.07240469],\n",
       "       [ 0.00402658,  0.02094143, -0.04973064, ...,  0.01532831,\n",
       "        -0.02220114,  0.04091913],\n",
       "       [ 0.02033915, -0.02527291, -0.06171497, ...,  0.0744134 ,\n",
       "         0.00964639,  0.03324147]], dtype=float32)>"
      ]
     },
     "metadata": {},
     "execution_count": 21
    }
   ],
   "metadata": {}
  },
  {
   "cell_type": "markdown",
   "source": [
    "## Training (Fitting)\r\n",
    "- The `Model.fit` method adjusts the model parameters to minimize the loss: "
   ],
   "metadata": {}
  },
  {
   "cell_type": "code",
   "execution_count": 22,
   "source": [
    "tf_fit = model.fit(X_train, y_train, validation_split=0.1, epochs=20)"
   ],
   "outputs": [
    {
     "output_type": "stream",
     "name": "stdout",
     "text": [
      "Epoch 1/20\n",
      "57/57 [==============================] - 2s 29ms/step - loss: 1.5299 - accuracy: 0.5489 - val_loss: 0.5545 - val_accuracy: 0.8600\n",
      "Epoch 2/20\n",
      "57/57 [==============================] - 1s 23ms/step - loss: 0.4700 - accuracy: 0.8822 - val_loss: 0.4688 - val_accuracy: 0.8750\n",
      "Epoch 3/20\n",
      "57/57 [==============================] - 1s 15ms/step - loss: 0.3636 - accuracy: 0.9045 - val_loss: 0.3696 - val_accuracy: 0.8950\n",
      "Epoch 4/20\n",
      "57/57 [==============================] - 1s 10ms/step - loss: 0.2516 - accuracy: 0.9424 - val_loss: 0.3389 - val_accuracy: 0.9250\n",
      "Epoch 5/20\n",
      "57/57 [==============================] - 1s 15ms/step - loss: 0.2017 - accuracy: 0.9524 - val_loss: 0.3312 - val_accuracy: 0.9200\n",
      "Epoch 6/20\n",
      "57/57 [==============================] - 0s 8ms/step - loss: 0.1628 - accuracy: 0.9623 - val_loss: 0.3197 - val_accuracy: 0.9250\n",
      "Epoch 7/20\n",
      "57/57 [==============================] - 0s 8ms/step - loss: 0.1413 - accuracy: 0.9739 - val_loss: 0.3214 - val_accuracy: 0.9200\n",
      "Epoch 8/20\n",
      "57/57 [==============================] - 1s 19ms/step - loss: 0.1104 - accuracy: 0.9810 - val_loss: 0.3190 - val_accuracy: 0.9300\n",
      "Epoch 9/20\n",
      "57/57 [==============================] - 2s 36ms/step - loss: 0.0929 - accuracy: 0.9850 - val_loss: 0.3332 - val_accuracy: 0.9100\n",
      "Epoch 10/20\n",
      "57/57 [==============================] - 2s 30ms/step - loss: 0.0861 - accuracy: 0.9888 - val_loss: 0.3239 - val_accuracy: 0.9150\n",
      "Epoch 11/20\n",
      "57/57 [==============================] - 1s 19ms/step - loss: 0.0611 - accuracy: 0.9981 - val_loss: 0.3262 - val_accuracy: 0.9200\n",
      "Epoch 12/20\n",
      "57/57 [==============================] - 1s 26ms/step - loss: 0.0643 - accuracy: 0.9932 - val_loss: 0.3326 - val_accuracy: 0.9250\n",
      "Epoch 13/20\n",
      "57/57 [==============================] - 1s 21ms/step - loss: 0.0499 - accuracy: 0.9986 - val_loss: 0.3268 - val_accuracy: 0.9250\n",
      "Epoch 14/20\n",
      "57/57 [==============================] - 1s 22ms/step - loss: 0.0415 - accuracy: 0.9960 - val_loss: 0.3343 - val_accuracy: 0.9200\n",
      "Epoch 15/20\n",
      "57/57 [==============================] - 1s 25ms/step - loss: 0.0349 - accuracy: 0.9994 - val_loss: 0.3341 - val_accuracy: 0.9300\n",
      "Epoch 16/20\n",
      "57/57 [==============================] - 1s 24ms/step - loss: 0.0290 - accuracy: 0.9996 - val_loss: 0.3415 - val_accuracy: 0.9250\n",
      "Epoch 17/20\n",
      "57/57 [==============================] - 1s 23ms/step - loss: 0.0246 - accuracy: 0.9999 - val_loss: 0.3518 - val_accuracy: 0.9400\n",
      "Epoch 18/20\n",
      "57/57 [==============================] - 2s 33ms/step - loss: 0.0247 - accuracy: 1.0000 - val_loss: 0.3490 - val_accuracy: 0.9300\n",
      "Epoch 19/20\n",
      "57/57 [==============================] - 2s 28ms/step - loss: 0.0185 - accuracy: 1.0000 - val_loss: 0.3534 - val_accuracy: 0.9300\n",
      "Epoch 20/20\n",
      "57/57 [==============================] - 2s 33ms/step - loss: 0.0181 - accuracy: 0.9999 - val_loss: 0.3588 - val_accuracy: 0.9350\n"
     ]
    }
   ],
   "metadata": {
    "execution": {
     "iopub.execute_input": "2021-06-16T19:21:06.578052Z",
     "iopub.status.busy": "2021-06-16T19:21:06.577211Z",
     "iopub.status.idle": "2021-06-16T19:21:20.744057Z",
     "shell.execute_reply": "2021-06-16T19:21:20.744401Z"
    },
    "id": "y7suUbJXVLqP"
   }
  },
  {
   "cell_type": "code",
   "execution_count": 23,
   "source": [
    "for key, val in tf_fit.history.items():\n",
    "    print( f'{key:20s}: {[ f\"{i:3.2f}\" for i in val]}')\n"
   ],
   "outputs": [
    {
     "output_type": "stream",
     "name": "stdout",
     "text": [
      "loss                : ['1.09', '0.45', '0.33', '0.25', '0.21', '0.16', '0.14', '0.12', '0.10', '0.08', '0.07', '0.06', '0.05', '0.04', '0.04', '0.03', '0.03', '0.02', '0.02', '0.02']\n",
      "accuracy            : ['0.70', '0.89', '0.92', '0.94', '0.95', '0.96', '0.97', '0.98', '0.98', '0.99', '1.00', '0.99', '1.00', '1.00', '1.00', '1.00', '1.00', '1.00', '1.00', '1.00']\n",
      "val_loss            : ['0.55', '0.47', '0.37', '0.34', '0.33', '0.32', '0.32', '0.32', '0.33', '0.32', '0.33', '0.33', '0.33', '0.33', '0.33', '0.34', '0.35', '0.35', '0.35', '0.36']\n",
      "val_accuracy        : ['0.86', '0.88', '0.89', '0.93', '0.92', '0.93', '0.92', '0.93', '0.91', '0.92', '0.92', '0.93', '0.93', '0.92', '0.93', '0.93', '0.94', '0.93', '0.93', '0.94']\n"
     ]
    }
   ],
   "metadata": {}
  },
  {
   "cell_type": "code",
   "execution_count": 24,
   "source": [
    "hist = tf_fit.history\n",
    "\n",
    "fig = plt.figure(figsize=(12, 5))\n",
    "ax = fig.add_subplot(1, 2, 1)\n",
    "ax.plot(hist['loss'], lw=3)\n",
    "ax.plot(hist['val_loss'], lw=3)\n",
    "ax.set_title('Training loss', size=15)\n",
    "ax.set_xlabel('Epoch', size=15)\n",
    "ax.tick_params(axis='both', which='major', labelsize=15)\n",
    "ax.legend(['train','val'])\n",
    "\n",
    "ax = fig.add_subplot(1, 2, 2)\n",
    "ax.plot(hist['accuracy'], lw=3)\n",
    "ax.plot(hist['val_accuracy'], lw=3)\n",
    "ax.set_title('Training accuracy', size=15)\n",
    "ax.set_xlabel('Epoch', size=15)\n",
    "ax.tick_params(axis='both', which='major', labelsize=15)\n",
    "plt.tight_layout()\n",
    "ax.legend(['train','val'])\n",
    "\n",
    "#plt.savefig('mnist1.pdf')\n",
    "\n",
    "plt.show()"
   ],
   "outputs": [
    {
     "output_type": "display_data",
     "data": {
      "image/png": "[encoded data removed]",
      "text/plain": [
       "<Figure size 864x360 with 2 Axes>"
      ]
     },
     "metadata": {
      "needs_background": "light"
     }
    }
   ],
   "metadata": {}
  },
  {
   "cell_type": "markdown",
   "source": [
    "## Evaluation\r\n",
    "- The `Model.evaluate` method checks the models performance."
   ],
   "metadata": {}
  },
  {
   "cell_type": "code",
   "execution_count": 25,
   "source": [
    "model.evaluate(X_test,  y_test)"
   ],
   "outputs": [
    {
     "output_type": "stream",
     "name": "stdout",
     "text": [
      "63/63 [==============================] - 1s 12ms/step - loss: 0.4961 - accuracy: 0.8705\n"
     ]
    },
    {
     "output_type": "execute_result",
     "data": {
      "text/plain": [
       "[0.4961208701133728, 0.8705000281333923]"
      ]
     },
     "metadata": {},
     "execution_count": 25
    }
   ],
   "metadata": {
    "execution": {
     "iopub.execute_input": "2021-06-16T19:21:20.748560Z",
     "iopub.status.busy": "2021-06-16T19:21:20.747995Z",
     "iopub.status.idle": "2021-06-16T19:21:21.231885Z",
     "shell.execute_reply": "2021-06-16T19:21:21.231429Z"
    },
    "id": "F7dTAzgHDUh7"
   }
  },
  {
   "cell_type": "code",
   "execution_count": 26,
   "source": [
    "y_hat = model(X_test)\n",
    "print(y_hat.shape)\n",
    "print(y_hat.numpy()[:2])"
   ],
   "outputs": [
    {
     "output_type": "stream",
     "name": "stdout",
     "text": [
      "(2000, 10)\n",
      "[[ -5.870202   -7.0599275  -2.737456    0.5788384   6.4873023  -6.837711\n",
      "  -10.680508   -1.9428189  -9.0796      2.8503397]\n",
      " [ -2.596835  -10.013222   -7.9838657  -0.9103726  -9.2117     12.187669\n",
      "  -11.942464   -6.3257656   1.6720117  -1.1088184]]\n"
     ]
    }
   ],
   "metadata": {}
  },
  {
   "cell_type": "markdown",
   "source": [
    "Return a probability, you can wrap the trained model, and attach the softmax to it:"
   ],
   "metadata": {
    "id": "Aj8NrlzlJqDG"
   }
  },
  {
   "cell_type": "code",
   "execution_count": 27,
   "source": [
    "probability_model = tf.keras.Sequential([\n",
    "  model,\n",
    "  tf.keras.layers.Softmax()\n",
    "])"
   ],
   "outputs": [],
   "metadata": {
    "execution": {
     "iopub.execute_input": "2021-06-16T19:21:21.236775Z",
     "iopub.status.busy": "2021-06-16T19:21:21.236217Z",
     "iopub.status.idle": "2021-06-16T19:21:21.250501Z",
     "shell.execute_reply": "2021-06-16T19:21:21.250090Z"
    },
    "id": "rYb6DrEH0GMv"
   }
  },
  {
   "cell_type": "code",
   "execution_count": 28,
   "source": [
    "y_hat_softmax = probability_model(X_test[:1])\n",
    "print(y_hat_softmax.numpy())"
   ],
   "outputs": [
    {
     "output_type": "stream",
     "name": "stdout",
     "text": [
      "[[4.1747530e-06 1.2703981e-06 9.5756055e-05 2.6388473e-03 9.7146547e-01\n",
      "  1.5865293e-06 3.4004877e-08 2.1196871e-04 1.6858094e-07 2.5580769e-02]]\n"
     ]
    }
   ],
   "metadata": {}
  },
  {
   "cell_type": "code",
   "execution_count": 29,
   "source": [
    "x_ticklabel = [i + 1 for i in range(10)]\n",
    "fig, axes = plt.subplots(1,2, figsize=(10,5))\n",
    "yp = y_hat_softmax.numpy()[0]\n",
    "xp = list(range(yp.shape[0]))\n",
    "axes[0].bar(xp, yp)\n",
    "axes[0].set_title('Softmax Values')\n",
    "axes[0].set_xticks(x_ticklabel)\n",
    "axes[0].set_xticklabels(x_ticklabel)\n",
    "axes[0].set_xlim([1,10])\n",
    "axes[1].imshow(X_test[0], cmap='gray')\n",
    "plt.show()"
   ],
   "outputs": [
    {
     "output_type": "display_data",
     "data": {
      "image/png": "[encoded data removed]",
      "text/plain": [
       "<Figure size 720x360 with 2 Axes>"
      ]
     },
     "metadata": {
      "needs_background": "light"
     }
    }
   ],
   "metadata": {}
  },
  {
   "cell_type": "code",
   "execution_count": 30,
   "source": [
    "# Find misclassification\n",
    "y_pred_tf = probability_model(X_test)\n",
    "y_pred_tf.numpy().shape\n",
    "\n",
    "y_pred = tf.math.argmax(y_pred_tf,axis=1).numpy()\n",
    "print(y_pred.shape)\n",
    "print(y_test.shape)\n",
    "\n",
    "loc = y_pred != y_test\n",
    "print(f'Missclassification = {loc.sum()}')"
   ],
   "outputs": [
    {
     "output_type": "stream",
     "name": "stdout",
     "text": [
      "(2000,)\n",
      "(2000,)\n",
      "Missclassification = 259\n"
     ]
    }
   ],
   "metadata": {}
  },
  {
   "cell_type": "code",
   "execution_count": 31,
   "source": [
    "fig, axes2D = plt.subplots(3,5, figsize=(12,8))\n",
    "axes = list(itertools.chain.from_iterable(axes2D)) # Flatten 2D list\n",
    "X_test_miss = X_test[loc]\n",
    "y_test_miss = y_test[loc]\n",
    "y_pred_miss = y_pred[loc]\n",
    "for idx, ax in enumerate(axes):\n",
    "    ax.imshow(X_test_miss[idx], cmap='gray')\n",
    "    ax.set_title(f'True={y_test_miss[idx]}, Pred={y_pred_miss[idx]}')\n",
    "fig.tight_layout()\n",
    "plt.show()"
   ],
   "outputs": [
    {
     "output_type": "display_data",
     "data": {
      "image/png": "[encoded data removed]",
      "text/plain": [
       "<Figure size 864x576 with 15 Axes>"
      ]
     },
     "metadata": {
      "needs_background": "light"
     }
    }
   ],
   "metadata": {}
  }
 ],
 "metadata": {
  "colab": {
   "collapsed_sections": [
    "rX8mhOLljYeM"
   ],
   "name": "beginner.ipynb",
   "toc_visible": true
  },
  "kernelspec": {
   "name": "python3",
   "display_name": "Python 3.8.11 64-bit ('tf': conda)"
  },
  "language_info": {
   "codemirror_mode": {
    "name": "ipython",
    "version": 3
   },
   "file_extension": ".py",
   "mimetype": "text/x-python",
   "name": "python",
   "nbconvert_exporter": "python",
   "pygments_lexer": "ipython3",
   "version": "3.8.11"
  },
  "interpreter": {
   "hash": "183983f8581d242f392f04aa55828dc2781ebbbbdf8bf6ac72073cf044539615"
  }
 },
 "nbformat": 4,
 "nbformat_minor": 2
}