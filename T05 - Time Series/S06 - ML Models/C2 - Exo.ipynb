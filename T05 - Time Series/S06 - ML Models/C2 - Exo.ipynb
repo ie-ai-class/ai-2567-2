{
 "cells": [
  {
   "cell_type": "code",
   "execution_count": 1,
   "metadata": {},
   "outputs": [],
   "source": [
    "from matplotlib import pyplot as plt\n",
    "from sktime.forecasting.compose import make_reduction\n",
    "from sktime.datasets import load_airline\n",
    "from sklearn.ensemble import GradientBoostingRegressor\n",
    "from sktime.utils.plotting import plot_series\n",
    "import numpy as np\n",
    "import pandas as pd\n",
    "from sktime.forecasting.model_selection import temporal_train_test_split\n"
   ]
  },
  {
   "cell_type": "code",
   "execution_count": 2,
   "metadata": {},
   "outputs": [],
   "source": [
    "y = load_airline()"
   ]
  },
  {
   "cell_type": "code",
   "execution_count": null,
   "metadata": {},
   "outputs": [],
   "source": [
    "random_data = np.random.random((y.shape[0], 3))\n",
    "cols = [f'X{i+1}' for i in range(random_data.shape[1])]\n",
    "X = pd.DataFrame(data=random_data, columns=cols, index=y.index)\n",
    "X.head()"
   ]
  },
  {
   "cell_type": "code",
   "execution_count": 4,
   "metadata": {},
   "outputs": [],
   "source": [
    "y_train, y_test = temporal_train_test_split(y, test_size=36)\n",
    "X_train, X_test = temporal_train_test_split(X, test_size=36)"
   ]
  },
  {
   "cell_type": "code",
   "execution_count": 5,
   "metadata": {},
   "outputs": [],
   "source": [
    "fh = np.arange(len(y_test)) + 1"
   ]
  },
  {
   "cell_type": "code",
   "execution_count": 6,
   "metadata": {},
   "outputs": [],
   "source": [
    "regressor = GradientBoostingRegressor(max_depth=None)\n",
    "forecaster = make_reduction(regressor, window_length=20, strategy=\"recursive\")\n",
    "forecaster.fit(y_train, X=X_train)\n",
    "y_pred = forecaster.predict(fh=fh, X=X_test)"
   ]
  },
  {
   "cell_type": "code",
   "execution_count": null,
   "metadata": {},
   "outputs": [],
   "source": [
    "plot_series(y_train, y_test, y_pred, labels=[\"y_train\", \"y_test\", \"y_pred\"])\n",
    "plt.show()"
   ]
  }
 ],
 "metadata": {
  "kernelspec": {
   "display_name": ".venv",
   "language": "python",
   "name": "python3"
  },
  "language_info": {
   "codemirror_mode": {
    "name": "ipython",
    "version": 3
   },
   "file_extension": ".py",
   "mimetype": "text/x-python",
   "name": "python",
   "nbconvert_exporter": "python",
   "pygments_lexer": "ipython3",
   "version": "3.12.7"
  }
 },
 "nbformat": 4,
 "nbformat_minor": 2
}
