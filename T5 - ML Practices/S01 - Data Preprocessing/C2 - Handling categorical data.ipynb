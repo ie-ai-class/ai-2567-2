{
 "cells": [
  {
   "cell_type": "markdown",
   "metadata": {},
   "source": [
    "# Handling categorical data\n"
   ]
  },
  {
   "cell_type": "code",
   "execution_count": null,
   "metadata": {},
   "outputs": [],
   "source": [
    "import pandas as pd\n",
    "import numpy as np"
   ]
  },
  {
   "cell_type": "code",
   "execution_count": null,
   "metadata": {},
   "outputs": [],
   "source": [
    "data = [\n",
    "    [10.1, 'M', 'green', 'class1'],\n",
    "    [13.5, 'L', 'red', 'class2'],\n",
    "    [15.3, 'XL', 'blue', 'class1'],\n",
    "    [11.3, 'M', 'red', 'class1'],\n",
    "    [13.2, 'L', 'blue', 'class2']]"
   ]
  },
  {
   "cell_type": "code",
   "execution_count": null,
   "metadata": {},
   "outputs": [],
   "source": [
    "df = pd.DataFrame(data)\n",
    "df.columns = ['price', 'size', 'color', 'y']\n",
    "display(df)"
   ]
  },
  {
   "cell_type": "markdown",
   "metadata": {},
   "source": [
    "## Mapping ordinal features (Fix 'size' column)\n"
   ]
  },
  {
   "cell_type": "markdown",
   "metadata": {},
   "source": [
    "### SKLearn Implementation\n"
   ]
  },
  {
   "cell_type": "code",
   "execution_count": null,
   "metadata": {},
   "outputs": [],
   "source": [
    "from sklearn.preprocessing import OrdinalEncoder\n",
    "\n",
    "# Creating object\n",
    "enc = OrdinalEncoder(categories=[['M', 'L', 'XL']], dtype=np.int16)\n",
    "\n",
    "# Fitting\n",
    "enc.fit(df[['size']])\n",
    "print(enc.categories_)\n",
    "\n",
    "# Transformation\n",
    "size_enc = enc.transform(df[['size']])\n",
    "print(size_enc)"
   ]
  },
  {
   "cell_type": "code",
   "execution_count": null,
   "metadata": {},
   "outputs": [],
   "source": [
    "# Replacing original column\n",
    "df2 = df.copy()\n",
    "df2['size'] = size_enc\n",
    "display(df2)"
   ]
  },
  {
   "cell_type": "code",
   "execution_count": null,
   "metadata": {},
   "outputs": [],
   "source": [
    "# Inverse transformation\n",
    "temp = df2.copy()\n",
    "temp['size'] = enc.inverse_transform(temp[['size']]).ravel()\n",
    "display(temp)"
   ]
  },
  {
   "cell_type": "markdown",
   "metadata": {},
   "source": [
    "### Python Implementation\n"
   ]
  },
  {
   "cell_type": "code",
   "execution_count": null,
   "metadata": {},
   "outputs": [],
   "source": [
    "temp = df.copy()\n",
    "\n",
    "# Transformation\n",
    "size_mapping = {'XL': 2, 'L': 1, 'M': 0}\n",
    "temp['size'] = temp['size'].map(size_mapping)\n",
    "display(temp)\n",
    "\n",
    "# Inverse transformation\n",
    "inv_size_mapping = {v: k for k, v in size_mapping.items()}\n",
    "temp['size'] = temp['size'].map(inv_size_mapping)\n",
    "display(temp)"
   ]
  },
  {
   "cell_type": "markdown",
   "metadata": {},
   "source": [
    "## One-hot encoding on nominal features (Fixing 'color' column)\n"
   ]
  },
  {
   "cell_type": "markdown",
   "metadata": {},
   "source": [
    "### SKLearning implementation\n"
   ]
  },
  {
   "cell_type": "code",
   "execution_count": null,
   "metadata": {},
   "outputs": [],
   "source": [
    "from sklearn.preprocessing import OneHotEncoder\n",
    "\n",
    "# Creating object\n",
    "ohe = OneHotEncoder(categories=[['green','red','blue']], dtype=np.int32)\n",
    "\n",
    "# Fitting\n",
    "ohe.fit(df[['color']]) \n",
    "print(ohe.categories_)\n",
    "\n",
    "# Transformation\n",
    "color_ohe = ohe.transform(df[['color']])\n",
    "print(color_ohe.toarray()) #ohe.transform return sparse matrix. So, \"toarray()\" method is needed."
   ]
  },
  {
   "cell_type": "code",
   "execution_count": null,
   "metadata": {},
   "outputs": [],
   "source": [
    "# Creating dataframe\n",
    "cols = ohe.categories_[0]\n",
    "temp = pd.DataFrame(color_ohe.toarray(), columns=cols)\n",
    "display(temp)"
   ]
  },
  {
   "cell_type": "code",
   "execution_count": null,
   "metadata": {},
   "outputs": [],
   "source": [
    "# Replacing original column\n",
    "df3 = pd.concat([df2, temp], axis=1)\n",
    "df3 = df3.drop(columns=['color'])\n",
    "\n",
    "# Rearranging columns\n",
    "cols = list(df3.columns)\n",
    "cols.remove('y')\n",
    "cols.append('y')\n",
    "df3 = df3[cols]\n",
    "display(df3)"
   ]
  },
  {
   "cell_type": "markdown",
   "metadata": {},
   "source": [
    "#### Drop column OHE\n",
    "\n",
    "Drop one of the categories per feature. This is useful in situations where perfectly collinear features cause problems, such as when feeding the resulting data into a neural network or an unregularized regression. However, dropping one category breaks the symmetry of the original representation and can therefore induce a bias in downstream models, for instance for penalized linear classification or regression models.\n"
   ]
  },
  {
   "cell_type": "code",
   "execution_count": null,
   "metadata": {},
   "outputs": [],
   "source": [
    "ohe = OneHotEncoder(drop=\"first\", categories=[[\"green\", \"red\", \"blue\"]], dtype=np.int32)\n",
    "color_ohe = ohe.fit_transform(df[[\"color\"]])\n",
    "print(color_ohe.toarray())\n",
    "\n",
    "# All columns\n",
    "cols = list(ohe.categories_[0])\n",
    "print(cols)\n",
    "\n",
    "# Drop first column\n",
    "cols.pop(0)\n",
    "print(cols)\n",
    "\n",
    "temp = pd.DataFrame(color_ohe.toarray(), columns=cols)\n",
    "display(temp)"
   ]
  },
  {
   "cell_type": "markdown",
   "metadata": {},
   "source": [
    "### Pandas implementation\n"
   ]
  },
  {
   "cell_type": "code",
   "execution_count": null,
   "metadata": {},
   "outputs": [],
   "source": [
    "pd.get_dummies(df[[\"color\"]]).replace({False: 0, True: 1})"
   ]
  },
  {
   "cell_type": "markdown",
   "metadata": {},
   "source": [
    "## Encoding class labels (fix 'y' column)\n"
   ]
  },
  {
   "cell_type": "code",
   "execution_count": null,
   "metadata": {},
   "outputs": [],
   "source": [
    "from sklearn.preprocessing import LabelEncoder\n",
    "le = LabelEncoder()\n",
    "\n",
    "# Fitting\n",
    "le.fit(df['y'])\n",
    "print(le.classes_)\n",
    "\n",
    "# Transformation\n",
    "y_le = le.transform(df['y'])\n",
    "\n",
    "# Replace original column\n",
    "df4 = df3.copy()\n",
    "df4['y'] = y_le\n",
    "display(df4)\n",
    "\n",
    "# Inverse transformation\n",
    "temp = df4.copy()\n",
    "temp['y'] = le.inverse_transform(df4['y'])\n",
    "display(temp) "
   ]
  },
  {
   "cell_type": "markdown",
   "metadata": {},
   "source": [
    "### Python implementation\n"
   ]
  },
  {
   "cell_type": "code",
   "execution_count": null,
   "metadata": {},
   "outputs": [],
   "source": [
    "temp = df3.copy()\n",
    "\n",
    "# Transformation\n",
    "class_mapping = {label: idx for idx, label in enumerate(np.unique(df['y']))}\n",
    "temp['y'] = temp['y'].map(class_mapping)\n",
    "display(temp)\n",
    "\n",
    "# Inverse transformation\n",
    "inv_class_mapping = {v: k for k, v in class_mapping.items()}\n",
    "temp['y'] = temp['y'].map(inv_class_mapping)\n",
    "display(temp)"
   ]
  }
 ],
 "metadata": {
  "anaconda-cloud": {},
  "interpreter": {
   "hash": "be725e0de8fb3f5fda9b0118bdf797fa9814e28e467c1cce77c5b9910d8a1786"
  },
  "kernelspec": {
   "display_name": "Python 3.8.8 64-bit ('base': conda)",
   "name": "python3"
  },
  "language_info": {
   "codemirror_mode": {
    "name": "ipython",
    "version": 3
   },
   "file_extension": ".py",
   "mimetype": "text/x-python",
   "name": "python",
   "nbconvert_exporter": "python",
   "pygments_lexer": "ipython3",
   "version": "3.11.6"
  }
 },
 "nbformat": 4,
 "nbformat_minor": 1
}
