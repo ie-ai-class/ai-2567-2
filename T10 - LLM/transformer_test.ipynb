{
 "cells": [
  {
   "cell_type": "code",
   "execution_count": 10,
   "metadata": {},
   "outputs": [],
   "source": [
    "import operator\n",
    "import pandas as pd\n",
    "import tensorflow as tf\n",
    "import transformers\n",
    "\n",
    "from datasets import load_dataset\n",
    "from tensorflow import keras\n",
    "from transformers import AutoTokenizer\n",
    "from transformers import pipeline\n",
    "from transformers import TFAutoModelForQuestionAnswering"
   ]
  },
  {
   "cell_type": "code",
   "execution_count": 11,
   "metadata": {},
   "outputs": [],
   "source": [
    "# qa = pipeline(\"question-answering\")"
   ]
  },
  {
   "cell_type": "code",
   "execution_count": 12,
   "metadata": {},
   "outputs": [],
   "source": [
    "# context=\"\"\"\n",
    "# Hugging Face was founded in 2016 by Clément Delangue, Julien Chaumond, and\n",
    "# Thomas Wolf originally as a company that developed a chatbot app targeted at\n",
    "# teenagers.[2] After open-sourcing the model behind the chatbot, the company\n",
    "# pivoted to focus on being a platform for democratizing machine learning. In March\n",
    "# 2021, Hugging Face raised $40 million in a Series B funding round.\n",
    "# \"\"\"\n",
    "\n",
    "# question = \"Who are the Hugging Face founders?\"\n",
    "\n",
    "# qa(question=question, context=context)"
   ]
  },
  {
   "cell_type": "code",
   "execution_count": 13,
   "metadata": {},
   "outputs": [],
   "source": [
    "# from transformers import pipeline, set_seed\n",
    "# generator = pipeline('text-generation', model='gpt2')\n",
    "\n",
    "# set_seed(0)\n",
    "# generator(\n",
    "#     \"In this course, we will teach you how to\", \n",
    "#     max_length=30, \n",
    "#     num_return_sequences=5\n",
    "# )"
   ]
  },
  {
   "cell_type": "code",
   "execution_count": 14,
   "metadata": {},
   "outputs": [
    {
     "data": {
      "application/vnd.jupyter.widget-view+json": {
       "model_id": "58c9d61d86bf44ddb7f77ff0ded168d9",
       "version_major": 2,
       "version_minor": 0
      },
      "text/plain": [
       "config.json:   0%|          | 0.00/2.27k [00:00<?, ?B/s]"
      ]
     },
     "metadata": {},
     "output_type": "display_data"
    },
    {
     "name": "stderr",
     "output_type": "stream",
     "text": [
      "c:\\Users\\nnnpo\\Coding\\ai-class\\ai-2567-2\\.venv\\Lib\\site-packages\\huggingface_hub\\file_download.py:142: UserWarning: `huggingface_hub` cache-system uses symlinks by default to efficiently store duplicated files but your machine does not support them in C:\\Users\\nnnpo\\.cache\\huggingface\\hub\\models--pythainlp--thainer-corpus-v2-base-model. Caching files will still work but in a degraded version that might require more space on your disk. This warning can be disabled by setting the `HF_HUB_DISABLE_SYMLINKS_WARNING` environment variable. For more details, see https://huggingface.co/docs/huggingface_hub/how-to-cache#limitations.\n",
      "To support symlinks on Windows, you either need to activate Developer Mode or to run Python as an administrator. In order to activate developer mode, see this article: https://docs.microsoft.com/en-us/windows/apps/get-started/enable-your-device-for-development\n",
      "  warnings.warn(message)\n"
     ]
    },
    {
     "data": {
      "application/vnd.jupyter.widget-view+json": {
       "model_id": "080142afafe1408dac62da10fcebdd50",
       "version_major": 2,
       "version_minor": 0
      },
      "text/plain": [
       "model.safetensors:   0%|          | 0.00/419M [00:00<?, ?B/s]"
      ]
     },
     "metadata": {},
     "output_type": "display_data"
    },
    {
     "data": {
      "application/vnd.jupyter.widget-view+json": {
       "model_id": "d803c379c11340439ab5d5134cb2fbec",
       "version_major": 2,
       "version_minor": 0
      },
      "text/plain": [
       "tokenizer_config.json:   0%|          | 0.00/550 [00:00<?, ?B/s]"
      ]
     },
     "metadata": {},
     "output_type": "display_data"
    },
    {
     "data": {
      "application/vnd.jupyter.widget-view+json": {
       "model_id": "5b8c0205d93946cdb69e810657907c2d",
       "version_major": 2,
       "version_minor": 0
      },
      "text/plain": [
       "sentencepiece.bpe.model:   0%|          | 0.00/905k [00:00<?, ?B/s]"
      ]
     },
     "metadata": {},
     "output_type": "display_data"
    },
    {
     "data": {
      "application/vnd.jupyter.widget-view+json": {
       "model_id": "c2259ea977934b7e9dc0014d0cb41643",
       "version_major": 2,
       "version_minor": 0
      },
      "text/plain": [
       "tokenizer.json:   0%|          | 0.00/2.18M [00:00<?, ?B/s]"
      ]
     },
     "metadata": {},
     "output_type": "display_data"
    },
    {
     "data": {
      "application/vnd.jupyter.widget-view+json": {
       "model_id": "e5deb1adb34e4d9ca77a52eece873756",
       "version_major": 2,
       "version_minor": 0
      },
      "text/plain": [
       "special_tokens_map.json:   0%|          | 0.00/364 [00:00<?, ?B/s]"
      ]
     },
     "metadata": {},
     "output_type": "display_data"
    },
    {
     "name": "stderr",
     "output_type": "stream",
     "text": [
      "Device set to use cpu\n"
     ]
    }
   ],
   "source": [
    "pipe = pipeline(model=\"pythainlp/thainer-corpus-v2-base-model\")"
   ]
  },
  {
   "cell_type": "code",
   "execution_count": 16,
   "metadata": {},
   "outputs": [
    {
     "data": {
      "text/plain": [
       "[{'entity': 'B-PERSON',\n",
       "  'score': 0.90847564,\n",
       "  'index': 3,\n",
       "  'word': '▁',\n",
       "  'start': 7,\n",
       "  'end': 8},\n",
       " {'entity': 'B-PERSON',\n",
       "  'score': 0.94716924,\n",
       "  'index': 4,\n",
       "  'word': 'นางสาว',\n",
       "  'start': 8,\n",
       "  'end': 14},\n",
       " {'entity': 'I-PERSON',\n",
       "  'score': 0.9587753,\n",
       "  'index': 5,\n",
       "  'word': 'มะลิ',\n",
       "  'start': 14,\n",
       "  'end': 18},\n",
       " {'entity': 'I-PERSON',\n",
       "  'score': 0.9617292,\n",
       "  'index': 6,\n",
       "  'word': 'วา',\n",
       "  'start': 18,\n",
       "  'end': 20},\n",
       " {'entity': 'I-PERSON',\n",
       "  'score': 0.9934176,\n",
       "  'index': 7,\n",
       "  'word': '▁',\n",
       "  'start': 20,\n",
       "  'end': 21},\n",
       " {'entity': 'I-PERSON',\n",
       "  'score': 0.98428184,\n",
       "  'index': 8,\n",
       "  'word': 'บุญ',\n",
       "  'start': 21,\n",
       "  'end': 24},\n",
       " {'entity': 'I-PERSON',\n",
       "  'score': 0.9569413,\n",
       "  'index': 9,\n",
       "  'word': 'สระ',\n",
       "  'start': 24,\n",
       "  'end': 27},\n",
       " {'entity': 'I-PERSON',\n",
       "  'score': 0.950054,\n",
       "  'index': 10,\n",
       "  'word': 'ดี',\n",
       "  'start': 27,\n",
       "  'end': 29},\n",
       " {'entity': 'B-LOCATION',\n",
       "  'score': 0.95773137,\n",
       "  'index': 13,\n",
       "  'word': 'ที่',\n",
       "  'start': 39,\n",
       "  'end': 42},\n",
       " {'entity': 'B-LOCATION',\n",
       "  'score': 0.9895551,\n",
       "  'index': 14,\n",
       "  'word': 'อําเภอ',\n",
       "  'start': 42,\n",
       "  'end': 47},\n",
       " {'entity': 'I-LOCATION',\n",
       "  'score': 0.9794058,\n",
       "  'index': 15,\n",
       "  'word': 'นาง',\n",
       "  'start': 47,\n",
       "  'end': 50},\n",
       " {'entity': 'I-LOCATION',\n",
       "  'score': 0.97814786,\n",
       "  'index': 16,\n",
       "  'word': 'รอง',\n",
       "  'start': 50,\n",
       "  'end': 53},\n",
       " {'entity': 'B-LOCATION',\n",
       "  'score': 0.9859519,\n",
       "  'index': 17,\n",
       "  'word': '▁',\n",
       "  'start': 53,\n",
       "  'end': 54},\n",
       " {'entity': 'B-LOCATION',\n",
       "  'score': 0.98836887,\n",
       "  'index': 18,\n",
       "  'word': 'จังหวัด',\n",
       "  'start': 54,\n",
       "  'end': 61},\n",
       " {'entity': 'I-LOCATION',\n",
       "  'score': 0.936301,\n",
       "  'index': 19,\n",
       "  'word': 'บุรีรัมย์',\n",
       "  'start': 61,\n",
       "  'end': 70},\n",
       " {'entity': 'B-AGO',\n",
       "  'score': 0.9865732,\n",
       "  'index': 21,\n",
       "  'word': '▁',\n",
       "  'start': 75,\n",
       "  'end': 76},\n",
       " {'entity': 'B-AGO',\n",
       "  'score': 0.43918338,\n",
       "  'index': 22,\n",
       "  'word': '23',\n",
       "  'start': 76,\n",
       "  'end': 78},\n",
       " {'entity': 'I-AGO',\n",
       "  'score': 0.99044234,\n",
       "  'index': 23,\n",
       "  'word': '▁',\n",
       "  'start': 78,\n",
       "  'end': 79},\n",
       " {'entity': 'I-AGO',\n",
       "  'score': 0.8806138,\n",
       "  'index': 24,\n",
       "  'word': 'ปี',\n",
       "  'start': 79,\n",
       "  'end': 81},\n",
       " {'entity': 'B-ORGANIZATION',\n",
       "  'score': 0.88304687,\n",
       "  'index': 28,\n",
       "  'word': '▁',\n",
       "  'start': 97,\n",
       "  'end': 98},\n",
       " {'entity': 'B-ORGANIZATION',\n",
       "  'score': 0.95269185,\n",
       "  'index': 29,\n",
       "  'word': 'มหาวิทยาลั',\n",
       "  'start': 98,\n",
       "  'end': 108},\n",
       " {'entity': 'I-ORGANIZATION',\n",
       "  'score': 0.6448723,\n",
       "  'index': 30,\n",
       "  'word': 'ยขอนแก่น',\n",
       "  'start': 108,\n",
       "  'end': 116},\n",
       " {'entity': 'B-AGO',\n",
       "  'score': 0.98592585,\n",
       "  'index': 40,\n",
       "  'word': '▁',\n",
       "  'start': 160,\n",
       "  'end': 161},\n",
       " {'entity': 'B-AGO',\n",
       "  'score': 0.7225853,\n",
       "  'index': 41,\n",
       "  'word': '23',\n",
       "  'start': 161,\n",
       "  'end': 163},\n",
       " {'entity': 'I-AGO',\n",
       "  'score': 0.99032587,\n",
       "  'index': 42,\n",
       "  'word': '▁',\n",
       "  'start': 163,\n",
       "  'end': 164},\n",
       " {'entity': 'I-AGO',\n",
       "  'score': 0.95892084,\n",
       "  'index': 43,\n",
       "  'word': 'ปี',\n",
       "  'start': 164,\n",
       "  'end': 166}]"
      ]
     },
     "execution_count": 16,
     "metadata": {},
     "output_type": "execute_result"
    }
   ],
   "source": [
    "sentence=\"ฉันชื่อ นางสาวมะลิวา บุญสระดี อาศัยอยู่ที่อำเภอนางรอง จังหวัดบุรีรัมย์ อายุ 23 ปี เพิ่งเรียนจบจาก มหาวิทยาลัยขอนแก่น และนี่คือข้อมูลปลอมชื่อคนไม่มีอยู่จริง อายุ 23 ปี\"\n",
    "\n",
    "pipe(sentence)"
   ]
  },
  {
   "cell_type": "code",
   "execution_count": null,
   "metadata": {},
   "outputs": [],
   "source": []
  }
 ],
 "metadata": {
  "kernelspec": {
   "display_name": ".venv",
   "language": "python",
   "name": "python3"
  },
  "language_info": {
   "codemirror_mode": {
    "name": "ipython",
    "version": 3
   },
   "file_extension": ".py",
   "mimetype": "text/x-python",
   "name": "python",
   "nbconvert_exporter": "python",
   "pygments_lexer": "ipython3",
   "version": "3.12.7"
  }
 },
 "nbformat": 4,
 "nbformat_minor": 2
}
